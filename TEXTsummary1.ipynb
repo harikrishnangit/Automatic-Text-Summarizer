{
  "nbformat": 4,
  "nbformat_minor": 0,
  "metadata": {
    "colab": {
      "name": "TEXTsummary1.ipynb",
      "provenance": [],
      "collapsed_sections": [],
      "authorship_tag": "ABX9TyP0mtxThvnnJbviuTb+vE0Y",
      "include_colab_link": true
    },
    "kernelspec": {
      "name": "python3",
      "display_name": "Python 3"
    },
    "language_info": {
      "name": "python"
    }
  },
  "cells": [
    {
      "cell_type": "markdown",
      "metadata": {
        "id": "view-in-github",
        "colab_type": "text"
      },
      "source": [
        "<a href=\"https://colab.research.google.com/github/harikrishnangit/Automatic-Text-Summarizer/blob/master/TEXTsummary1.ipynb\" target=\"_parent\"><img src=\"https://colab.research.google.com/assets/colab-badge.svg\" alt=\"Open In Colab\"/></a>"
      ]
    },
    {
      "cell_type": "code",
      "execution_count": null,
      "metadata": {
        "colab": {
          "base_uri": "https://localhost:8080/"
        },
        "id": "avj2sqqA1nJn",
        "outputId": "28eaee59-ddef-4767-e252-c072314d0316"
      },
      "outputs": [
        {
          "output_type": "stream",
          "name": "stdout",
          "text": [
            "[nltk_data] Downloading package stopwords to /root/nltk_data...\n",
            "[nltk_data]   Unzipping corpora/stopwords.zip.\n",
            "[nltk_data] Downloading package punkt to /root/nltk_data...\n",
            "[nltk_data]   Unzipping tokenizers/punkt.zip.\n"
          ]
        }
      ],
      "source": [
        "# importing libraries \n",
        "import nltk \n",
        "from nltk.corpus import stopwords \n",
        "from nltk.tokenize import word_tokenize, sent_tokenize \n",
        "\n",
        "nltk.download('stopwords')\n",
        "nltk.download('punkt')\n",
        "\n",
        "from string import punctuation"
      ]
    },
    {
      "cell_type": "code",
      "source": [
        "# Input text - to summarize  \n",
        "text = open(\"try.txt\",'r',encoding='Latin-1')\n",
        "text=text.read()\n",
        "print(text)"
      ],
      "metadata": {
        "colab": {
          "base_uri": "https://localhost:8080/"
        },
        "id": "gQS3a6b_2Beh",
        "outputId": "1d151e26-b80d-4d79-9974-3b792f9636f8"
      },
      "execution_count": 10,
      "outputs": [
        {
          "output_type": "stream",
          "name": "stdout",
          "text": [
            "I carefully explained how her brain worked with a visual aid of her brain in pictures. I told her where she was strong and where she needed to do âbrain pushupsâ to get stronger. And I told her that she had something called âdyslexia.â\n",
            "\n",
            "And she jumped out of her chair, smiled ear to ear, screamed âYES!,â and did a move Iâve seen in sports celebrations many timesâthe signature victory arm pump. \n",
            "\n",
            "Wait, what? \n",
            "\n",
            "As it turns out, I had also tested her brother a few years before, and he had dyslexia, too. He had told her that knowing he had dyslexia made him not feel stupid, and that it really helped his teachers understand how his brain worked differently. Dawn told me, âSo this means Iâm not dumb!â\n",
            "\n",
            "According to labeling theory, when you label a student with a learning disability, this creates a problemâthey hold lower expectations for themselves and others hold lower expectations of them. In turn, the student may live up to these low expectations. However, the research supporting this claim is controversial. Although students with learning disabilities do tend to struggle with lower achievement and hold negative beliefs about their academic abilities, some researchers point out that it is difficult to disentangle what is causing these challenges. It gets murkyâwould Dawn be behind her classmates in reading because she has dyslexia, because she doesnât have access to high-quality support programs, or because her teachers and parents now hold lower expectations for her?\n"
          ]
        }
      ]
    },
    {
      "cell_type": "code",
      "source": [
        "# Tokenizing the text \n",
        "stopWords = list(stopwords.words(\"english\"))+list(punctuation)+list([0,1,2,3,4,5,6,7,8,9])\n",
        "stopWords[15:20]"
      ],
      "metadata": {
        "colab": {
          "base_uri": "https://localhost:8080/"
        },
        "id": "Bm-kZa3JKjin",
        "outputId": "df9b9192-2e94-46f2-b5f5-840989291b4e"
      },
      "execution_count": 11,
      "outputs": [
        {
          "output_type": "execute_result",
          "data": {
            "text/plain": [
              "['yourself', 'yourselves', 'he', 'him', 'his']"
            ]
          },
          "metadata": {},
          "execution_count": 11
        }
      ]
    },
    {
      "cell_type": "code",
      "source": [
        "words = word_tokenize(text) \n",
        "words[15:25]"
      ],
      "metadata": {
        "colab": {
          "base_uri": "https://localhost:8080/"
        },
        "id": "4orRdCKMJfjT",
        "outputId": "d3607ad1-822f-4694-90c1-99c027424898"
      },
      "execution_count": 12,
      "outputs": [
        {
          "output_type": "execute_result",
          "data": {
            "text/plain": [
              "['pictures', '.', 'I', 'told', 'her', 'where', 'she', 'was', 'strong', 'and']"
            ]
          },
          "metadata": {},
          "execution_count": 12
        }
      ]
    },
    {
      "cell_type": "code",
      "source": [
        "freqTable={}\n",
        "   \n",
        "for word in words: \n",
        "    word = word.lower() \n",
        "    if word not in stopWords:\n",
        "        if word in freqTable: \n",
        "            freqTable[word] += 1\n",
        "        else: \n",
        "            freqTable[word] = 1"
      ],
      "metadata": {
        "id": "hjmeTcabMdt5"
      },
      "execution_count": 13,
      "outputs": []
    },
    {
      "cell_type": "code",
      "source": [
        "print(freqTable)"
      ],
      "metadata": {
        "colab": {
          "base_uri": "https://localhost:8080/"
        },
        "id": "J74GGX7_MjIg",
        "outputId": "ebbf615a-72bc-4160-fce1-7189d05e9fc4"
      },
      "execution_count": 14,
      "outputs": [
        {
          "output_type": "stream",
          "name": "stdout",
          "text": [
            "{'carefully': 1, 'explained': 1, 'brain': 3, 'worked': 2, 'visual': 1, 'aid': 1, 'pictures': 1, 'told': 4, 'strong': 1, 'needed': 1, 'â\\x80\\x9cbrain': 1, 'pushupsâ\\x80\\x9d': 1, 'get': 1, 'stronger': 1, 'something': 1, 'called': 1, 'â\\x80\\x9cdyslexia.â\\x80\\x9d': 1, 'jumped': 1, 'chair': 1, 'smiled': 1, 'ear': 2, 'screamed': 1, 'â\\x80\\x9cyes': 1, 'â\\x80\\x9d': 2, 'move': 1, 'iâ\\x80\\x99ve': 1, 'seen': 1, 'sports': 1, 'celebrations': 1, 'many': 1, 'timesâ\\x80\\x94the': 1, 'signature': 1, 'victory': 1, 'arm': 1, 'pump': 1, 'wait': 1, 'turns': 1, 'also': 1, 'tested': 1, 'brother': 1, 'years': 1, 'dyslexia': 3, 'knowing': 1, 'made': 1, 'feel': 1, 'stupid': 1, 'really': 1, 'helped': 1, 'teachers': 2, 'understand': 1, 'differently': 1, 'dawn': 2, 'â\\x80\\x9cso': 1, 'means': 1, 'iâ\\x80\\x99m': 1, 'dumb': 1, 'according': 1, 'labeling': 1, 'theory': 1, 'label': 1, 'student': 2, 'learning': 2, 'disability': 1, 'creates': 1, 'problemâ\\x80\\x94they': 1, 'hold': 4, 'lower': 4, 'expectations': 4, 'others': 1, 'turn': 1, 'may': 1, 'live': 1, 'low': 1, 'however': 1, 'research': 1, 'supporting': 1, 'claim': 1, 'controversial': 1, 'although': 1, 'students': 1, 'disabilities': 1, 'tend': 1, 'struggle': 1, 'achievement': 1, 'negative': 1, 'beliefs': 1, 'academic': 1, 'abilities': 1, 'researchers': 1, 'point': 1, 'difficult': 1, 'disentangle': 1, 'causing': 1, 'challenges': 1, 'gets': 1, 'murkyâ\\x80\\x94would': 1, 'behind': 1, 'classmates': 1, 'reading': 1, 'doesnâ\\x80\\x99t': 1, 'access': 1, 'high-quality': 1, 'support': 1, 'programs': 1, 'parents': 1}\n"
          ]
        }
      ]
    },
    {
      "cell_type": "code",
      "source": [
        "print(freqTable.items())"
      ],
      "metadata": {
        "colab": {
          "base_uri": "https://localhost:8080/"
        },
        "id": "zbRkDadLMn-i",
        "outputId": "1b731355-4933-4890-a339-2f17f241d64c"
      },
      "execution_count": 15,
      "outputs": [
        {
          "output_type": "stream",
          "name": "stdout",
          "text": [
            "dict_items([('carefully', 1), ('explained', 1), ('brain', 3), ('worked', 2), ('visual', 1), ('aid', 1), ('pictures', 1), ('told', 4), ('strong', 1), ('needed', 1), ('â\\x80\\x9cbrain', 1), ('pushupsâ\\x80\\x9d', 1), ('get', 1), ('stronger', 1), ('something', 1), ('called', 1), ('â\\x80\\x9cdyslexia.â\\x80\\x9d', 1), ('jumped', 1), ('chair', 1), ('smiled', 1), ('ear', 2), ('screamed', 1), ('â\\x80\\x9cyes', 1), ('â\\x80\\x9d', 2), ('move', 1), ('iâ\\x80\\x99ve', 1), ('seen', 1), ('sports', 1), ('celebrations', 1), ('many', 1), ('timesâ\\x80\\x94the', 1), ('signature', 1), ('victory', 1), ('arm', 1), ('pump', 1), ('wait', 1), ('turns', 1), ('also', 1), ('tested', 1), ('brother', 1), ('years', 1), ('dyslexia', 3), ('knowing', 1), ('made', 1), ('feel', 1), ('stupid', 1), ('really', 1), ('helped', 1), ('teachers', 2), ('understand', 1), ('differently', 1), ('dawn', 2), ('â\\x80\\x9cso', 1), ('means', 1), ('iâ\\x80\\x99m', 1), ('dumb', 1), ('according', 1), ('labeling', 1), ('theory', 1), ('label', 1), ('student', 2), ('learning', 2), ('disability', 1), ('creates', 1), ('problemâ\\x80\\x94they', 1), ('hold', 4), ('lower', 4), ('expectations', 4), ('others', 1), ('turn', 1), ('may', 1), ('live', 1), ('low', 1), ('however', 1), ('research', 1), ('supporting', 1), ('claim', 1), ('controversial', 1), ('although', 1), ('students', 1), ('disabilities', 1), ('tend', 1), ('struggle', 1), ('achievement', 1), ('negative', 1), ('beliefs', 1), ('academic', 1), ('abilities', 1), ('researchers', 1), ('point', 1), ('difficult', 1), ('disentangle', 1), ('causing', 1), ('challenges', 1), ('gets', 1), ('murkyâ\\x80\\x94would', 1), ('behind', 1), ('classmates', 1), ('reading', 1), ('doesnâ\\x80\\x99t', 1), ('access', 1), ('high-quality', 1), ('support', 1), ('programs', 1), ('parents', 1)])\n"
          ]
        }
      ]
    },
    {
      "cell_type": "code",
      "source": [
        "print(sorted(freqTable.items(), key = lambda x: x[1]))"
      ],
      "metadata": {
        "colab": {
          "base_uri": "https://localhost:8080/"
        },
        "id": "OJOPQ6wKMriL",
        "outputId": "3efc1e4a-3764-4bf9-ac2b-1c1e0afe0955"
      },
      "execution_count": 16,
      "outputs": [
        {
          "output_type": "stream",
          "name": "stdout",
          "text": [
            "[('carefully', 1), ('explained', 1), ('visual', 1), ('aid', 1), ('pictures', 1), ('strong', 1), ('needed', 1), ('â\\x80\\x9cbrain', 1), ('pushupsâ\\x80\\x9d', 1), ('get', 1), ('stronger', 1), ('something', 1), ('called', 1), ('â\\x80\\x9cdyslexia.â\\x80\\x9d', 1), ('jumped', 1), ('chair', 1), ('smiled', 1), ('screamed', 1), ('â\\x80\\x9cyes', 1), ('move', 1), ('iâ\\x80\\x99ve', 1), ('seen', 1), ('sports', 1), ('celebrations', 1), ('many', 1), ('timesâ\\x80\\x94the', 1), ('signature', 1), ('victory', 1), ('arm', 1), ('pump', 1), ('wait', 1), ('turns', 1), ('also', 1), ('tested', 1), ('brother', 1), ('years', 1), ('knowing', 1), ('made', 1), ('feel', 1), ('stupid', 1), ('really', 1), ('helped', 1), ('understand', 1), ('differently', 1), ('â\\x80\\x9cso', 1), ('means', 1), ('iâ\\x80\\x99m', 1), ('dumb', 1), ('according', 1), ('labeling', 1), ('theory', 1), ('label', 1), ('disability', 1), ('creates', 1), ('problemâ\\x80\\x94they', 1), ('others', 1), ('turn', 1), ('may', 1), ('live', 1), ('low', 1), ('however', 1), ('research', 1), ('supporting', 1), ('claim', 1), ('controversial', 1), ('although', 1), ('students', 1), ('disabilities', 1), ('tend', 1), ('struggle', 1), ('achievement', 1), ('negative', 1), ('beliefs', 1), ('academic', 1), ('abilities', 1), ('researchers', 1), ('point', 1), ('difficult', 1), ('disentangle', 1), ('causing', 1), ('challenges', 1), ('gets', 1), ('murkyâ\\x80\\x94would', 1), ('behind', 1), ('classmates', 1), ('reading', 1), ('doesnâ\\x80\\x99t', 1), ('access', 1), ('high-quality', 1), ('support', 1), ('programs', 1), ('parents', 1), ('worked', 2), ('ear', 2), ('â\\x80\\x9d', 2), ('teachers', 2), ('dawn', 2), ('student', 2), ('learning', 2), ('brain', 3), ('dyslexia', 3), ('told', 4), ('hold', 4), ('lower', 4), ('expectations', 4)]\n"
          ]
        }
      ]
    },
    {
      "cell_type": "code",
      "source": [
        "sentences = sent_tokenize(text) \n",
        "for sen in sentences:\n",
        "    print(sen,\"\\n\")"
      ],
      "metadata": {
        "colab": {
          "base_uri": "https://localhost:8080/"
        },
        "id": "-cqk5GA-Mvak",
        "outputId": "92e89e70-5ec5-47f1-9172-ad5264e508f9"
      },
      "execution_count": 17,
      "outputs": [
        {
          "output_type": "stream",
          "name": "stdout",
          "text": [
            "I carefully explained how her brain worked with a visual aid of her brain in pictures. \n",
            "\n",
            "I told her where she was strong and where she needed to do âbrain pushupsâ to get stronger. \n",
            "\n",
            "And I told her that she had something called âdyslexia.â\n",
            "\n",
            "And she jumped out of her chair, smiled ear to ear, screamed âYES!,â and did a move Iâve seen in sports celebrations many timesâthe signature victory arm pump. \n",
            "\n",
            "Wait, what? \n",
            "\n",
            "As it turns out, I had also tested her brother a few years before, and he had dyslexia, too. \n",
            "\n",
            "He had told her that knowing he had dyslexia made him not feel stupid, and that it really helped his teachers understand how his brain worked differently. \n",
            "\n",
            "Dawn told me, âSo this means Iâm not dumb!â\n",
            "\n",
            "According to labeling theory, when you label a student with a learning disability, this creates a problemâthey hold lower expectations for themselves and others hold lower expectations of them. \n",
            "\n",
            "In turn, the student may live up to these low expectations. \n",
            "\n",
            "However, the research supporting this claim is controversial. \n",
            "\n",
            "Although students with learning disabilities do tend to struggle with lower achievement and hold negative beliefs about their academic abilities, some researchers point out that it is difficult to disentangle what is causing these challenges. \n",
            "\n",
            "It gets murkyâwould Dawn be behind her classmates in reading because she has dyslexia, because she doesnât have access to high-quality support programs, or because her teachers and parents now hold lower expectations for her? \n",
            "\n"
          ]
        }
      ]
    },
    {
      "cell_type": "code",
      "source": [
        "# Creating a dictionary to keep the score of each sentence \n",
        "sentence_weight = dict() \n",
        "for sentence in sentences: \n",
        "    # print(sentence,'\\n')\n",
        "    for word, freq in freqTable.items():\n",
        "        # print('\\n' , word, freq)\n",
        "        if word in sentence.lower(): \n",
        "            # print('sentence_weight    ',sentence_weight)\n",
        "            if sentence in sentence_weight:     \n",
        "                sentence_weight[sentence] += freq \n",
        "            else: \n",
        "                sentence_weight[sentence] = freq \n",
        "sentence_weight"
      ],
      "metadata": {
        "colab": {
          "base_uri": "https://localhost:8080/"
        },
        "id": "yWb1oJgZMz-U",
        "outputId": "0f350e08-5572-4837-8c0b-c29ff84d476d"
      },
      "execution_count": 18,
      "outputs": [
        {
          "output_type": "execute_result",
          "data": {
            "text/plain": [
              "{'Although students with learning disabilities do tend to struggle with lower achievement and hold negative beliefs about their academic abilities, some researchers point out that it is difficult to disentangle what is causing these challenges.': 32,\n",
              " 'And I told her that she had something called â\\x80\\x9cdyslexia.â\\x80\\x9d\\n\\nAnd she jumped out of her chair, smiled ear to ear, screamed â\\x80\\x9cYES!,â\\x80\\x9d and did a move Iâ\\x80\\x99ve seen in sports celebrations many timesâ\\x80\\x94the signature victory arm pump.': 30,\n",
              " 'As it turns out, I had also tested her brother a few years before, and he had dyslexia, too.': 11,\n",
              " 'Dawn told me, â\\x80\\x9cSo this means Iâ\\x80\\x99m not dumb!â\\x80\\x9d\\n\\nAccording to labeling theory, when you label a student with a learning disability, this creates a problemâ\\x80\\x94they hold lower expectations for themselves and others hold lower expectations of them.': 39,\n",
              " 'He had told her that knowing he had dyslexia made him not feel stupid, and that it really helped his teachers understand how his brain worked differently.': 22,\n",
              " 'However, the research supporting this claim is controversial.': 8,\n",
              " 'I carefully explained how her brain worked with a visual aid of her brain in pictures.': 10,\n",
              " 'I told her where she was strong and where she needed to do â\\x80\\x9cbrain pushupsâ\\x80\\x9d to get stronger.': 15,\n",
              " 'In turn, the student may live up to these low expectations.': 10,\n",
              " 'It gets murkyâ\\x80\\x94would Dawn be behind her classmates in reading because she has dyslexia, because she doesnâ\\x80\\x99t have access to high-quality support programs, or because her teachers and parents now hold lower expectations for her?': 32,\n",
              " 'Wait, what?': 1}"
            ]
          },
          "metadata": {},
          "execution_count": 18
        }
      ]
    },
    {
      "cell_type": "code",
      "source": [
        "sumValues = 0\n",
        "for sentence in sentence_weight: \n",
        "    sumValues += sentence_weight[sentence] \n",
        "sumValues"
      ],
      "metadata": {
        "colab": {
          "base_uri": "https://localhost:8080/"
        },
        "id": "WexAgmgKM6AH",
        "outputId": "e51c93e4-2783-4a54-f2b8-f46de3f689e1"
      },
      "execution_count": 19,
      "outputs": [
        {
          "output_type": "execute_result",
          "data": {
            "text/plain": [
              "210"
            ]
          },
          "metadata": {},
          "execution_count": 19
        }
      ]
    },
    {
      "cell_type": "code",
      "source": [
        "# Average value of a sentence from the original text \n",
        "average = int(sumValues / len(sentence_weight)) \n",
        "# print(average,sumValues,len(sentence_weight),sep='\\n\\n')\n",
        "average"
      ],
      "metadata": {
        "colab": {
          "base_uri": "https://localhost:8080/"
        },
        "id": "x84TeMeEM-T6",
        "outputId": "a0cf661d-2f95-4666-fd1a-b1a5fb9bfd6f"
      },
      "execution_count": 20,
      "outputs": [
        {
          "output_type": "execute_result",
          "data": {
            "text/plain": [
              "19"
            ]
          },
          "metadata": {},
          "execution_count": 20
        }
      ]
    },
    {
      "cell_type": "code",
      "source": [
        "# Storing sentences into our summary. \n",
        "summary = '' \n",
        "counter=0\n",
        "for sentence in sentences: \n",
        "    if (sentence in sentence_weight) and (sentence_weight[sentence] > (1.25* average)): \n",
        "        summary += \" \" + sentence \n",
        "        counter+=1\n",
        "print(counter,summary,sep='\\n\\n')"
      ],
      "metadata": {
        "colab": {
          "base_uri": "https://localhost:8080/"
        },
        "id": "Y4jWF9CQNBbw",
        "outputId": "dbffd8ef-f492-41ef-9068-3cb7abb5e610"
      },
      "execution_count": 21,
      "outputs": [
        {
          "output_type": "stream",
          "name": "stdout",
          "text": [
            "4\n",
            "\n",
            " And I told her that she had something called âdyslexia.â\n",
            "\n",
            "And she jumped out of her chair, smiled ear to ear, screamed âYES!,â and did a move Iâve seen in sports celebrations many timesâthe signature victory arm pump. Dawn told me, âSo this means Iâm not dumb!â\n",
            "\n",
            "According to labeling theory, when you label a student with a learning disability, this creates a problemâthey hold lower expectations for themselves and others hold lower expectations of them. Although students with learning disabilities do tend to struggle with lower achievement and hold negative beliefs about their academic abilities, some researchers point out that it is difficult to disentangle what is causing these challenges. It gets murkyâwould Dawn be behind her classmates in reading because she has dyslexia, because she doesnât have access to high-quality support programs, or because her teachers and parents now hold lower expectations for her?\n"
          ]
        }
      ]
    },
    {
      "cell_type": "code",
      "source": [
        "# two references for one document\n",
        "from nltk.translate.bleu_score import corpus_bleu\n",
        "text = [[['this', 'is', 'a', 'test'], ['this', 'is' 'test']]]\n",
        "summary = [['this', 'is', 'a', 'test']]\n",
        "score = corpus_bleu(text, summary)\n",
        "print(score)"
      ],
      "metadata": {
        "colab": {
          "base_uri": "https://localhost:8080/"
        },
        "id": "BL5980iqy9of",
        "outputId": "7ed708df-470d-4d93-e76a-019fcb3c242c"
      },
      "execution_count": 27,
      "outputs": [
        {
          "output_type": "stream",
          "name": "stdout",
          "text": [
            "1.0\n"
          ]
        }
      ]
    }
  ]
}
{
  "nbformat": 4,
  "nbformat_minor": 0,
  "metadata": {
    "colab": {
      "name": "HARI_TEXT_SUMM5.ipynb",
      "provenance": [],
      "authorship_tag": "ABX9TyMAlQPc+6fxttZTu6ZTKPIe",
      "include_colab_link": true
    },
    "kernelspec": {
      "name": "python3",
      "display_name": "Python 3"
    },
    "language_info": {
      "name": "python"
    }
  },
  "cells": [
    {
      "cell_type": "markdown",
      "metadata": {
        "id": "view-in-github",
        "colab_type": "text"
      },
      "source": [
        "<a href=\"https://colab.research.google.com/github/harikrishnangit/Automatic-Text-Summarizer/blob/master/HARI_TEXT_SUMM5.ipynb\" target=\"_parent\"><img src=\"https://colab.research.google.com/assets/colab-badge.svg\" alt=\"Open In Colab\"/></a>"
      ]
    },
    {
      "cell_type": "code",
      "source": [
        "#input text article\n",
        "article_text= \"linguistic expression, such as the English example The quick brown fox jumps over the lazy dog. In traditional grammar, it is typically defined as a string of words that expresses a complete thought, or as a unit consisting of a subject and predicate. In non-functional linguistics it is typically defined as a maximal unit of syntactic structure such as a constituent. In functional linguistics, it is defined as a unit of written texts delimited by graphological features such as upper case letters and markers such as periods, question marks, and exclamation marks. This notion contrasts with a curve, which is delimited by phonologic features such as pitch and loudness and markers such as pauses; and with a clause, which is a sequence of words that represents some process going on throughout time \""
      ],
      "metadata": {
        "id": "MAcQNWsx7pZe"
      },
      "execution_count": 8,
      "outputs": []
    },
    {
      "cell_type": "markdown",
      "source": [
        "Import Modules"
      ],
      "metadata": {
        "id": "UgcEuYTp8upI"
      }
    },
    {
      "cell_type": "code",
      "source": [
        "import re\n",
        "import nltk"
      ],
      "metadata": {
        "id": "mfMpgs8d7zJb"
      },
      "execution_count": 9,
      "outputs": []
    },
    {
      "cell_type": "markdown",
      "source": [
        "Data Preprocessing"
      ],
      "metadata": {
        "id": "ndc4bXv-8wKJ"
      }
    },
    {
      "cell_type": "code",
      "source": [
        "article_text = article_text.lower()\n",
        "article_text"
      ],
      "metadata": {
        "colab": {
          "base_uri": "https://localhost:8080/",
          "height": 91
        },
        "id": "rXjpQ0rU8o65",
        "outputId": "88bc4e4c-b61a-42d7-c1db-e728cd5271eb"
      },
      "execution_count": 10,
      "outputs": [
        {
          "output_type": "execute_result",
          "data": {
            "application/vnd.google.colaboratory.intrinsic+json": {
              "type": "string"
            },
            "text/plain": [
              "'linguistic expression, such as the english example the quick brown fox jumps over the lazy dog. in traditional grammar, it is typically defined as a string of words that expresses a complete thought, or as a unit consisting of a subject and predicate. in non-functional linguistics it is typically defined as a maximal unit of syntactic structure such as a constituent. in functional linguistics, it is defined as a unit of written texts delimited by graphological features such as upper case letters and markers such as periods, question marks, and exclamation marks. this notion contrasts with a curve, which is delimited by phonologic features such as pitch and loudness and markers such as pauses; and with a clause, which is a sequence of words that represents some process going on throughout time '"
            ]
          },
          "metadata": {},
          "execution_count": 10
        }
      ]
    },
    {
      "cell_type": "code",
      "source": [
        "# remove spaces, punctuations and numbers\n",
        "clean_text = re.sub('[^a-zA-Z]', ' ', article_text)\n",
        "clean_text = re.sub('\\s+', ' ', clean_text)\n",
        "clean_text"
      ],
      "metadata": {
        "colab": {
          "base_uri": "https://localhost:8080/",
          "height": 91
        },
        "id": "O8xGMePa85KH",
        "outputId": "0e7ace06-c9ad-453b-c933-fa3e73efbb84"
      },
      "execution_count": 11,
      "outputs": [
        {
          "output_type": "execute_result",
          "data": {
            "application/vnd.google.colaboratory.intrinsic+json": {
              "type": "string"
            },
            "text/plain": [
              "'linguistic expression such as the english example the quick brown fox jumps over the lazy dog in traditional grammar it is typically defined as a string of words that expresses a complete thought or as a unit consisting of a subject and predicate in non functional linguistics it is typically defined as a maximal unit of syntactic structure such as a constituent in functional linguistics it is defined as a unit of written texts delimited by graphological features such as upper case letters and markers such as periods question marks and exclamation marks this notion contrasts with a curve which is delimited by phonologic features such as pitch and loudness and markers such as pauses and with a clause which is a sequence of words that represents some process going on throughout time '"
            ]
          },
          "metadata": {},
          "execution_count": 11
        }
      ]
    },
    {
      "cell_type": "code",
      "source": [
        "import nltk\n",
        "nltk.download('punkt')"
      ],
      "metadata": {
        "colab": {
          "base_uri": "https://localhost:8080/"
        },
        "id": "up-MVnmG9SmJ",
        "outputId": "bc08e906-a00a-48b0-a230-81eafe84bcd7"
      },
      "execution_count": 14,
      "outputs": [
        {
          "output_type": "stream",
          "name": "stdout",
          "text": [
            "[nltk_data] Downloading package punkt to /root/nltk_data...\n",
            "[nltk_data]   Package punkt is already up-to-date!\n"
          ]
        },
        {
          "output_type": "execute_result",
          "data": {
            "text/plain": [
              "True"
            ]
          },
          "metadata": {},
          "execution_count": 14
        }
      ]
    },
    {
      "cell_type": "code",
      "source": [
        "# split into sentence list\n",
        "sentence_list = nltk.sent_tokenize(article_text)\n",
        "sentence_list"
      ],
      "metadata": {
        "colab": {
          "base_uri": "https://localhost:8080/"
        },
        "id": "u1WOsuN29Utu",
        "outputId": "f468beba-2e92-4eab-ea7d-e96326e60276"
      },
      "execution_count": 15,
      "outputs": [
        {
          "output_type": "execute_result",
          "data": {
            "text/plain": [
              "['linguistic expression, such as the english example the quick brown fox jumps over the lazy dog.',\n",
              " 'in traditional grammar, it is typically defined as a string of words that expresses a complete thought, or as a unit consisting of a subject and predicate.',\n",
              " 'in non-functional linguistics it is typically defined as a maximal unit of syntactic structure such as a constituent.',\n",
              " 'in functional linguistics, it is defined as a unit of written texts delimited by graphological features such as upper case letters and markers such as periods, question marks, and exclamation marks.',\n",
              " 'this notion contrasts with a curve, which is delimited by phonologic features such as pitch and loudness and markers such as pauses; and with a clause, which is a sequence of words that represents some process going on throughout time']"
            ]
          },
          "metadata": {},
          "execution_count": 15
        }
      ]
    },
    {
      "cell_type": "code",
      "source": [
        "## run this cell once to download stopwords\n",
        "import nltk\n",
        "nltk.download('stopwords')"
      ],
      "metadata": {
        "colab": {
          "base_uri": "https://localhost:8080/"
        },
        "id": "jywNZNYf9YNJ",
        "outputId": "6a6c1f54-bfe9-4f12-f2ad-d147a5749676"
      },
      "execution_count": 16,
      "outputs": [
        {
          "output_type": "stream",
          "name": "stdout",
          "text": [
            "[nltk_data] Downloading package stopwords to /root/nltk_data...\n",
            "[nltk_data]   Unzipping corpora/stopwords.zip.\n"
          ]
        },
        {
          "output_type": "execute_result",
          "data": {
            "text/plain": [
              "True"
            ]
          },
          "metadata": {},
          "execution_count": 16
        }
      ]
    },
    {
      "cell_type": "code",
      "source": [
        ""
      ],
      "metadata": {
        "id": "1cSmuLv99hbP"
      },
      "execution_count": null,
      "outputs": []
    },
    {
      "cell_type": "markdown",
      "source": [
        "Word Frequencies"
      ],
      "metadata": {
        "id": "1tyk3Vur9myO"
      }
    },
    {
      "cell_type": "code",
      "source": [
        "stopwords = nltk.corpus.stopwords.words('english')\n",
        "\n",
        "word_frequencies = {}\n",
        "for word in nltk.word_tokenize(clean_text):\n",
        "    if word not in stopwords:\n",
        "        if word not in word_frequencies:\n",
        "            word_frequencies[word] = 1\n",
        "        else:\n",
        "            word_frequencies[word] += 1"
      ],
      "metadata": {
        "id": "OsdS1Uae9nwG"
      },
      "execution_count": 17,
      "outputs": []
    },
    {
      "cell_type": "code",
      "source": [
        "maximum_frequency = max(word_frequencies.values())\n",
        "\n",
        "for word in word_frequencies:\n",
        "    word_frequencies[word] = word_frequencies[word] / maximum_frequency"
      ],
      "metadata": {
        "id": "vtsrcBIx9sdu"
      },
      "execution_count": 18,
      "outputs": []
    },
    {
      "cell_type": "markdown",
      "source": [
        "Calculate Sentence Scores"
      ],
      "metadata": {
        "id": "AaifDNLu9ySe"
      }
    },
    {
      "cell_type": "code",
      "source": [
        "sentence_scores = {}\n",
        "\n",
        "for sentence in sentence_list:\n",
        "    for word in nltk.word_tokenize(sentence):\n",
        "        if word in word_frequencies and len(sentence.split(' ')) < 30:\n",
        "            if sentence not in sentence_scores:\n",
        "                sentence_scores[sentence] = word_frequencies[word]\n",
        "            else:\n",
        "                sentence_scores[sentence] += word_frequencies[word]"
      ],
      "metadata": {
        "id": "_GdN7Xn69zPl"
      },
      "execution_count": 19,
      "outputs": []
    },
    {
      "cell_type": "code",
      "source": [
        "word_frequencies"
      ],
      "metadata": {
        "colab": {
          "base_uri": "https://localhost:8080/"
        },
        "id": "LM2PTOYq96g1",
        "outputId": "8fd9bb62-0ce4-48aa-9c7d-3668437c18a1"
      },
      "execution_count": 20,
      "outputs": [
        {
          "output_type": "execute_result",
          "data": {
            "text/plain": [
              "{'brown': 0.3333333333333333,\n",
              " 'case': 0.3333333333333333,\n",
              " 'clause': 0.3333333333333333,\n",
              " 'complete': 0.3333333333333333,\n",
              " 'consisting': 0.3333333333333333,\n",
              " 'constituent': 0.3333333333333333,\n",
              " 'contrasts': 0.3333333333333333,\n",
              " 'curve': 0.3333333333333333,\n",
              " 'defined': 1.0,\n",
              " 'delimited': 0.6666666666666666,\n",
              " 'dog': 0.3333333333333333,\n",
              " 'english': 0.3333333333333333,\n",
              " 'example': 0.3333333333333333,\n",
              " 'exclamation': 0.3333333333333333,\n",
              " 'expresses': 0.3333333333333333,\n",
              " 'expression': 0.3333333333333333,\n",
              " 'features': 0.6666666666666666,\n",
              " 'fox': 0.3333333333333333,\n",
              " 'functional': 0.6666666666666666,\n",
              " 'going': 0.3333333333333333,\n",
              " 'grammar': 0.3333333333333333,\n",
              " 'graphological': 0.3333333333333333,\n",
              " 'jumps': 0.3333333333333333,\n",
              " 'lazy': 0.3333333333333333,\n",
              " 'letters': 0.3333333333333333,\n",
              " 'linguistic': 0.3333333333333333,\n",
              " 'linguistics': 0.6666666666666666,\n",
              " 'loudness': 0.3333333333333333,\n",
              " 'markers': 0.6666666666666666,\n",
              " 'marks': 0.6666666666666666,\n",
              " 'maximal': 0.3333333333333333,\n",
              " 'non': 0.3333333333333333,\n",
              " 'notion': 0.3333333333333333,\n",
              " 'pauses': 0.3333333333333333,\n",
              " 'periods': 0.3333333333333333,\n",
              " 'phonologic': 0.3333333333333333,\n",
              " 'pitch': 0.3333333333333333,\n",
              " 'predicate': 0.3333333333333333,\n",
              " 'process': 0.3333333333333333,\n",
              " 'question': 0.3333333333333333,\n",
              " 'quick': 0.3333333333333333,\n",
              " 'represents': 0.3333333333333333,\n",
              " 'sequence': 0.3333333333333333,\n",
              " 'string': 0.3333333333333333,\n",
              " 'structure': 0.3333333333333333,\n",
              " 'subject': 0.3333333333333333,\n",
              " 'syntactic': 0.3333333333333333,\n",
              " 'texts': 0.3333333333333333,\n",
              " 'thought': 0.3333333333333333,\n",
              " 'throughout': 0.3333333333333333,\n",
              " 'time': 0.3333333333333333,\n",
              " 'traditional': 0.3333333333333333,\n",
              " 'typically': 0.6666666666666666,\n",
              " 'unit': 1.0,\n",
              " 'upper': 0.3333333333333333,\n",
              " 'words': 0.6666666666666666,\n",
              " 'written': 0.3333333333333333}"
            ]
          },
          "metadata": {},
          "execution_count": 20
        }
      ]
    },
    {
      "cell_type": "code",
      "source": [
        "sentence_scores"
      ],
      "metadata": {
        "colab": {
          "base_uri": "https://localhost:8080/"
        },
        "id": "ODAz6YwJ99xl",
        "outputId": "fd7b244d-e1dd-41c6-8a72-10d59196821b"
      },
      "execution_count": 21,
      "outputs": [
        {
          "output_type": "execute_result",
          "data": {
            "text/plain": [
              "{'in non-functional linguistics it is typically defined as a maximal unit of syntactic structure such as a constituent.': 4.666666666666666,\n",
              " 'in traditional grammar, it is typically defined as a string of words that expresses a complete thought, or as a unit consisting of a subject and predicate.': 6.333333333333332,\n",
              " 'linguistic expression, such as the english example the quick brown fox jumps over the lazy dog.': 3.3333333333333335}"
            ]
          },
          "metadata": {},
          "execution_count": 21
        }
      ]
    },
    {
      "cell_type": "markdown",
      "source": [
        "Summary"
      ],
      "metadata": {
        "id": "EJsNHTHx-JDJ"
      }
    },
    {
      "cell_type": "code",
      "source": [
        "import heapq\n",
        "summary = heapq.nlargest(5, sentence_scores, key=sentence_scores.get)\n",
        "\n",
        "print(\" \".join(summary))"
      ],
      "metadata": {
        "colab": {
          "base_uri": "https://localhost:8080/"
        },
        "id": "KANMA43T-LU2",
        "outputId": "430901f5-424d-4cb9-b6db-0a746e975400"
      },
      "execution_count": 22,
      "outputs": [
        {
          "output_type": "stream",
          "name": "stdout",
          "text": [
            "in traditional grammar, it is typically defined as a string of words that expresses a complete thought, or as a unit consisting of a subject and predicate. in non-functional linguistics it is typically defined as a maximal unit of syntactic structure such as a constituent. linguistic expression, such as the english example the quick brown fox jumps over the lazy dog.\n"
          ]
        }
      ]
    }
  ]
}
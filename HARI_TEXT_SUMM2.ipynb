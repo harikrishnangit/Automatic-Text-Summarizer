{
  "nbformat": 4,
  "nbformat_minor": 0,
  "metadata": {
    "colab": {
      "name": "HARI_TEXT_SUMM2.ipynb",
      "provenance": [],
      "collapsed_sections": [],
      "authorship_tag": "ABX9TyN4ldR795xLZoM0jLMzss3L",
      "include_colab_link": true
    },
    "kernelspec": {
      "name": "python3",
      "display_name": "Python 3"
    },
    "language_info": {
      "name": "python"
    }
  },
  "cells": [
    {
      "cell_type": "markdown",
      "metadata": {
        "id": "view-in-github",
        "colab_type": "text"
      },
      "source": [
        "<a href=\"https://colab.research.google.com/github/harikrishnangit/Automatic-Text-Summarizer/blob/master/HARI_TEXT_SUMM2.ipynb\" target=\"_parent\"><img src=\"https://colab.research.google.com/assets/colab-badge.svg\" alt=\"Open In Colab\"/></a>"
      ]
    },
    {
      "cell_type": "code",
      "source": [
        "import re\n",
        "import string\n",
        "import numpy as np\n",
        "import matplotlib.pyplot as plt\n",
        "from nltk import pos_tag\n",
        "from nltk.tokenize import sent_tokenize, word_tokenize\n",
        "from nltk.stem.wordnet import WordNetLemmatizer\n",
        "from nltk.corpus.reader.wordnet import NOUN, VERB, ADJ, ADV\n",
        "from nltk.corpus import brown, stopwords\n",
        "from nltk.cluster.util import cosine_distance\n",
        "from operator import itemgetter\n",
        "%matplotlib"
      ],
      "metadata": {
        "colab": {
          "base_uri": "https://localhost:8080/"
        },
        "id": "esjAAufSAOGX",
        "outputId": "a5318f05-4f2d-426c-90a2-60993b290c6c"
      },
      "execution_count": 12,
      "outputs": [
        {
          "output_type": "stream",
          "name": "stdout",
          "text": [
            "Using matplotlib backend: agg\n"
          ]
        }
      ]
    },
    {
      "cell_type": "code",
      "source": [
        "np.seterr(divide='ignore', invalid='ignore')"
      ],
      "metadata": {
        "colab": {
          "base_uri": "https://localhost:8080/"
        },
        "id": "MX7HiIOuAlmz",
        "outputId": "fb59f927-ba9b-478a-93df-a1bcd6e76736"
      },
      "execution_count": 13,
      "outputs": [
        {
          "output_type": "execute_result",
          "data": {
            "text/plain": [
              "{'divide': 'ignore', 'invalid': 'ignore', 'over': 'warn', 'under': 'ignore'}"
            ]
          },
          "metadata": {},
          "execution_count": 13
        }
      ]
    },
    {
      "cell_type": "code",
      "source": [
        "import nltk\n",
        "nltk.download('brown')\n",
        "sentences = brown.sents('ca04')"
      ],
      "metadata": {
        "colab": {
          "base_uri": "https://localhost:8080/"
        },
        "id": "wxCogdXJApsy",
        "outputId": "e6291905-9915-490d-b0f1-64139f3f94b8"
      },
      "execution_count": 15,
      "outputs": [
        {
          "output_type": "stream",
          "name": "stdout",
          "text": [
            "[nltk_data] Downloading package brown to /root/nltk_data...\n",
            "[nltk_data]   Unzipping corpora/brown.zip.\n"
          ]
        }
      ]
    },
    {
      "cell_type": "code",
      "source": [
        "len(sentences)"
      ],
      "metadata": {
        "colab": {
          "base_uri": "https://localhost:8080/"
        },
        "id": "OIWO4hZBCdmO",
        "outputId": "6614b9de-bf73-4c3e-fe96-4d61c29d0812"
      },
      "execution_count": 16,
      "outputs": [
        {
          "output_type": "execute_result",
          "data": {
            "text/plain": [
              "88"
            ]
          },
          "metadata": {},
          "execution_count": 16
        }
      ]
    },
    {
      "cell_type": "code",
      "source": [
        "sentlist=[' '.join(sent) for sent in sentences]"
      ],
      "metadata": {
        "id": "OLz4aCJpCkO7"
      },
      "execution_count": 17,
      "outputs": []
    },
    {
      "cell_type": "code",
      "source": [
        "wholesent=\"\"\n",
        "for i in sentlist:\n",
        "    wholesent+=i;\n",
        "print(wholesent)"
      ],
      "metadata": {
        "colab": {
          "base_uri": "https://localhost:8080/"
        },
        "id": "YT8S3JeUCpSc",
        "outputId": "7738c23a-b43d-436b-a7b9-ba9971416b04"
      },
      "execution_count": 18,
      "outputs": [
        {
          "output_type": "stream",
          "name": "stdout",
          "text": [
            "OsloThe most positive element to emerge from the Oslo meeting of North Atlantic Treaty Organization Foreign Ministers has been the freer , franker , and wider discussions , animated by much better mutual understanding than in past meetings .This has been a working session of an organization that , by its very nature , can only proceed along its route step by step and without dramatic changes .In Oslo , the ministers have met in a climate of candor , and made a genuine attempt to get information and understanding one another's problems .This atmosphere of understanding has been particularly noticeable where relations are concerned between the `` colonialist '' powers and those who have never , or not for a long time , had such problems .The nightmare of a clash between those in trouble in Africa , exacerbated by the difficulties , changes , and tragedies facing them , and other allies who intellectually and emotionally disapprove of the circumstances that have brought these troubles about , has been conspicuous by its absence .Explosion avoidedIn the case of Portugal , which a few weeks ago was rumored ready to walk out of the NATO Council should critics of its Angola policy prove harsh , there has been a noticeable relaxation of tension .The general , remarkably courteous , explanation has left basic positions unchanged , but there has been no explosion in the council .There should even be no more bitter surprises in the UN General Assembly as to NATO members' votes , since a new ad hoc NATO committee has been set up so that in the future such topics as Angola will be discussed in advance .Canada alone has been somewhat out of step with the Oslo attempt to get all the allied cars back on the track behind the NATO locomotive .Even Norway , despite daily but limited manifestations against atomic arms in the heart of this northernmost capital of the alliance , is today closer to the NATO line .On the negative side of the balance sheet must be set some disappointment that the United States leadership has not been as much in evidence as hoped for .One diplomat described the tenor of Secretary of State Dean Rusk's speeches as `` inconclusive '' .But he hastened to add that , if United States policies were not always clear , despite Mr. Rusk's analysis of the various global danger points and setbacks for the West , this may merely mean the new administration has not yet firmly fixed its policy .Exploratory moodA certain vagueness may also be caused by tactical appreciation of the fact that the present council meeting is a semipublic affair , with no fewer than six Soviet correspondents accredited .The impression has nevertheless been given during these three days , despite Mr. Rusk's personal popularity , that the United States delegation came to Oslo in a somewhat tentative and exploratory frame of mind , more ready to listen and learn than to enunciate firm policy on a global scale with detailed application to individual danger spots .The Secretary of State himself , in his first speech , gave some idea of the tremendous march of events inside and outside the United States that has preoccupied the new administration in the past four months .But where the core of NATO is concerned , the Secretary of State has not only reiterated the United States' profound attachment to the alliance , `` cornerstone '' of its foreign policy , but has announced that five nuclear submarines will eventually be at NATO's disposal in European waters .The Secretary of State has also solemnly repeated a warning to the Soviet Union that the United States will not stand for another setback in Berlin , an affirmation once again taken up by the council as a whole .Conflict surveyedThe secretary's greatest achievement is perhaps the rekindling of NATO realization that East-West friction , wherever it take place around the globe , is in essence the general conflict between two entirely different societies , and must be treated as such without regard to geographical distance or lack of apparent connection .The annual spring meeting has given an impetus in three main directions : more , deeper , and more timely political consultation within the alliance , the use of the Organization for Economic Cooperation and Development ( when ratified ) as a method of coordinating aid to the underdeveloped countries , and the need for strengthening conventional forces as well as the maintenance of the nuclear deterrent .This increase in the `` threshold '' , as the conventional forces strengthening is called , will prove one of the alliance's most difficult problems in the months to come .Each ally will have to carry out obligations long since laid down , but never completely fulfilled .WashingtonThe Kennedy administration moves haltingly toward a Geneva conference on Laos just as serious debate over its foreign policy erupts for the first time .There is little optimism here that the Communists will be any more docile at the conference table than they were in military actions on the ground in Laos .The United States , State Department officials explain , now is mainly interested in setting up an international inspection system which will prevent Laos from being used as a base for Communist attacks on neighboring Thailand and South Viet Nam .They count on the aid of the neutral countries attending the Geneva conference to achieve this .The United States hopes that any future Lao Cabinet would not become Communist dominated .But it is apparent that no acceptable formula has been found to prevent such a possibility .Policies modifiedThe inclination here is to accept a de facto cease-fire in Laos , rather than continue to insist on a verification of the cease-fire by the international control commission before participating in the Geneva conference .This is another of the modifications of policy on Laos that the Kennedy administration has felt compelled to make .It excuses these actions as being the chain reaction to basic errors made in the previous administration .Its spokesmen insist that there has not been time enough to institute reforms in military and economic aid policies in the critical areas .But with the months moving on -- and the immediate confrontations with the Communists showing no gain for the free world -- the question arises :How effective have Kennedy administration first foreign policy decisions been in dealing with Communist aggression ? ?Former Vice-President Richard M. Nixon in Detroit called for a firmer and tougher policy toward the Soviet Union .He was critical of what he feels is President Kennedy's tendency to be too conciliatory .GOP restrainedIt does not take a Gallup poll to find out that most Republicans in Congress feel this understates the situation as Republicans see it .They can hardly restrain themselves from raising the question of whether Republicans , if they had been in power , would have made `` amateurish and monumental blunders '' in Cuba .One Republican senator told this correspondent that he was constantly being asked why he didn't attack the Kennedy administration on this score .His reply , he said , was that he agreed to the need for unity in the country now .But he further said that it was better politics to let others question the wisdom of administration policies first .The Republicans some weeks ago served notice through Senator Thruston B. Morton ( R ) of Kentucky , chairman of the Republican National Committee , that the Kennedy administration would be held responsible if the outcome in Laos was a coalition government susceptible of Communist domination .Kennedy administration policies also have been assailed now from another direction by 70 Harvard , Boston University , Brandeis , and Massachusetts Institute of Technology educators .Detente urgedThis group pleads with the administration to `` give no further support for the invasion of Cuba by exile groups '' .It recommends that the United States `` seek instead to detach the Castro regime from the Communist bloc by working for a diplomatic detente and a resumption of trade relations ; ;and concentrate its constructive efforts on eliminating in other parts of Latin America the social conditions on which totalitarian nationalism feeds '' .Mr. Nixon , for his part , would oppose intervention in Cuba without specific provocation .But he did recommend that President Kennedy state clearly that if Communist countries shipped any further arms to Cuba that it would not be tolerated .Until the Cuban fiasco and the Communist military victories in Laos , almost any observer would have said that President Kennedy had blended a program that respected , generally , the opinions voiced both by Mr. Nixon and the professors .Aid plans revampedVery early in his administration he informed the Kremlin through diplomatic channels , a high official source disclosed , that the new administration would react even tougher than the Eisenhower administration would during the formative period of the administration .Strenuous efforts were made to remove pin pricking from administration statements .Policies on nuclear test ban negotiations were reviewed and changed .But thus far there has been no response in kind .Foreign aid programs were revamped to give greater emphasis to economic aid and to encourage political reform in recipient nations .In Laos , the administration looked at the Eisenhower administration efforts to show determination by sailing a naval fleet into Southeast Asian waters as a useless gesture .Again and again it asked the Communists to `` freeze '' the military situation in Laos .But the Communists aided the Pathet Lao at an even faster rate .And after several correspondents went into Pathet Lao territory and exposed the huge build-up , administration spokesmen acclaimed them for performing a `` great service '' and laid the matter before the Southeast Asia Treaty Organization .SEATO was steamed up and prepared contingency plans for coping with the military losses in Laos .But the Communists never gave sufficient provocation at any one time for the United States to want to risk a limited or an all-out war over Laos .( Some SEATO nations disagreed , however .)There was the further complication that the administration had very early concluded that Laos was ill suited to be an ally , unlike its more determined neighbors , Thailand and South Viet Nam .The administration declared itself in favor of a neutralized Laos .The pro-Western government , which the United States had helped in a revolt against the Souvanna Phouma `` neutralist '' government , never did appear to spark much fighting spirit in the Royal Lao Army .There certainly was not any more energy displayed after it was clear the United States would not back the pro-Western government to the hilt .If the administration ever had any ideas that it could find an acceptable alternative to Prince Souvanna Phouma , whom it felt was too trusting of Communists , it gradually had to relinquish them .One factor was the statement of Senator J. W. Fulbright ( D ) of Arkansas , chairman of the Senate Foreign Relations Committee .He declared on March 25 that the United States had erred a year and a half ago by `` encouraging the removal '' of Prince Souvanna .WashingtonThe White House is taking extraordinary steps to check the rapid growth of juvenile delinquency in the United States .The President is deeply concerned over this problem and its effect upon the `` vitality of the nation '' .In an important assertion of national leadership in this field , he has issued an executive order establishing the President's committee on Juvenile Delinquency and Crime , to be supported and assisted by a Citizens Advisory Council of recognized authorities on juvenile problems .The President asks the support and cooperation of Congress in his efforts through the enactment of legislation to provide federal grants to states for specified efforts in combating this disturbing crime trend .Offenses multiplyThe President has also called upon the Attorney General , the Secretary of Health , Education and Welfare , and the Secretary of Labor to coordinate their efforts `` in the development of a program of federal leadership to assist states and local communities in their efforts to cope with the problem .Simultaneously the President announced Thursday the appointment of David L. Hackett , a special assistant to the Attorney General , as executive director of the new Committee on Juvenile Delinquency and Youth Crime .His sense of urgency in this matter stems from the fact that court cases and juvenile arrests have more than doubled since 1948 , each year showing an increase in offenders .Among arrests reported by the Federal Bureau of Investigation in 1959 , about half for burglary and larceny involved persons under 18 years of age .\n"
          ]
        }
      ]
    },
    {
      "cell_type": "code",
      "source": [
        "stop_words = set(stopwords.words(\"english\"))\n",
        "punctuations = set(string.punctuation)\n",
        "pos_tags = {\n",
        "            NOUN: ['NN', 'NNS', 'NNP', 'NNPS', 'PRP', 'PRP$', 'WP', 'WP$'],\n",
        "            VERB: ['VB', 'VBD', 'VBG', 'VBN', 'VBP', 'VBZ'],\n",
        "            ADJ: ['JJ', 'JJR', 'JJS'],\n",
        "            ADV: ['RB', 'RBR', 'RBS', 'WRB']\n",
        "}"
      ],
      "metadata": {
        "id": "3B7QTkd1CwMC"
      },
      "execution_count": 19,
      "outputs": []
    },
    {
      "cell_type": "code",
      "source": [
        "def remove_stop_words(words):\n",
        "        return [w for w in words if w not in stop_words]"
      ],
      "metadata": {
        "id": "I9s6e0_5DBxz"
      },
      "execution_count": 20,
      "outputs": []
    },
    {
      "cell_type": "code",
      "source": [
        "def remove_regex(sent):\n",
        "        sent = \" \".join([w.lower() for w in sent])\n",
        "        sent = re.sub(r\"i'm\", \"i am\", sent)\n",
        "        sent = re.sub(r\"he's\", \"he is\", sent)\n",
        "        sent = re.sub(r\"can't\", \"cannot\", sent)\n",
        "        sent = re.sub(r\"don't\", \"do not\", sent)\n",
        "        sent = re.sub(r\"that's\", \"that is\", sent)\n",
        "        sent = re.sub(r\"\\'ve\", \" have\", sent)\n",
        "        sent = re.sub(r\"\\'ll\", \" will\", sent)\n",
        "        sent = re.sub(r\"what's\", \"what is\", sent)\n",
        "        sent = re.sub(r\"where's\", \"where is\", sent)\n",
        "        sent = re.sub(r\"\\'re\", \" are\", sent)\n",
        "        sent = re.sub(r\"\\'d\", \" would\", sent)\n",
        "        sent = re.sub(r\"she's\", \"she is\", sent)\n",
        "        sent = re.sub(r\"won't\", \"will not\", sent)\n",
        "        patterns = re.finditer(\"#[\\w]*\", sent)\n",
        "        for pattern in patterns:\n",
        "            sent = re.sub(pattern.group().strip(), \"\", sent)\n",
        "        sent = \"\".join(ch for ch in sent if ch not in punctuations)\n",
        "        return sent"
      ],
      "metadata": {
        "id": "OtmcQAE2DGhQ"
      },
      "execution_count": 21,
      "outputs": []
    },
    {
      "cell_type": "code",
      "source": [
        "def posTagging(words):\n",
        "        tagged_words = pos_tag(words)\n",
        "        pos_words = []\n",
        "        for word in tagged_words:\n",
        "            flag = False\n",
        "            for key, value in pos_tags.items():\n",
        "                if word[1] in value:\n",
        "                    pos_words.append((word[0], key))\n",
        "                    flag = True\n",
        "                    break\n",
        "            if not flag:\n",
        "                pos_words.append((word[0], NOUN))\n",
        "        return pos_words"
      ],
      "metadata": {
        "id": "4wHIhCSODMsq"
      },
      "execution_count": 22,
      "outputs": []
    },
    {
      "cell_type": "code",
      "source": [
        "def preprocessData(sentence):\n",
        "    sentence= remove_regex(sentence)\n",
        "    words = word_tokenize(sentence)\n",
        "    cleanedWords = remove_stop_words(words)\n",
        "    lem = WordNetLemmatizer()\n",
        "    pos_words = posTagging(words)\n",
        "    cleanedWords = [lem.lemmatize(w, pos=p) for w, p in pos_words]\n",
        "    return cleanedWords"
      ],
      "metadata": {
        "id": "TFep4tIpDUwz"
      },
      "execution_count": 23,
      "outputs": []
    },
    {
      "cell_type": "code",
      "source": [
        "def findSentenceSimilarity(s1, s2):\n",
        "    s1 = preprocessData(s1)\n",
        "    s2 = preprocessData(s2)\n",
        "    allWords = list(set(s1 + s2))\n",
        "    vectorForS1 = [0] * len(allWords)\n",
        "    vectorForS2 = [0] * len(allWords)\n",
        "    for word in s1:\n",
        "        vectorForS1[allWords.index(word)] += 1\n",
        "    for word in s2:\n",
        "        vectorForS2[allWords.index(word)] += 1\n",
        "    return 1 - cosine_distance(vectorForS1, vectorForS2)"
      ],
      "metadata": {
        "id": "paHESGdaDZXA"
      },
      "execution_count": 24,
      "outputs": []
    },
    {
      "cell_type": "code",
      "source": [
        "def createSimilarityMatrix(sentences):\n",
        "    matrix = np.zeros((len(sentences), len(sentences)))\n",
        "    for i in range(len(sentences)):\n",
        "        for j in range(len(sentences)):\n",
        "            if i == j:\n",
        "                continue\n",
        "            else:\n",
        "                matrix[i][j] = findSentenceSimilarity(sentences[i], sentences[j])\n",
        "    for i in range(len(matrix)):\n",
        "        matrix[i] /= matrix[i].sum()\n",
        "    return matrix"
      ],
      "metadata": {
        "id": "NpezkH9WDeS0"
      },
      "execution_count": 25,
      "outputs": []
    },
    {
      "cell_type": "code",
      "source": [
        "import nltk\n",
        "nltk.download('averaged_perceptron_tagger')\n",
        "import nltk\n",
        "nltk.download('wordnet')"
      ],
      "metadata": {
        "colab": {
          "base_uri": "https://localhost:8080/"
        },
        "id": "YRZ8zJ5_DsYy",
        "outputId": "131bb70f-9a4d-44d0-f34e-4e97526991d0"
      },
      "execution_count": 30,
      "outputs": [
        {
          "output_type": "stream",
          "name": "stdout",
          "text": [
            "[nltk_data] Downloading package averaged_perceptron_tagger to\n",
            "[nltk_data]     /root/nltk_data...\n",
            "[nltk_data]   Package averaged_perceptron_tagger is already up-to-\n",
            "[nltk_data]       date!\n",
            "[nltk_data] Downloading package wordnet to /root/nltk_data...\n",
            "[nltk_data]   Unzipping corpora/wordnet.zip.\n"
          ]
        },
        {
          "output_type": "execute_result",
          "data": {
            "text/plain": [
              "True"
            ]
          },
          "metadata": {},
          "execution_count": 30
        }
      ]
    },
    {
      "cell_type": "code",
      "source": [
        "SimilarityMatrix = createSimilarityMatrix(sentences)"
      ],
      "metadata": {
        "id": "wtZBGPwyDj1p"
      },
      "execution_count": 31,
      "outputs": []
    },
    {
      "cell_type": "markdown",
      "source": [
        "Ranking sentences using PageRank Algorithm"
      ],
      "metadata": {
        "id": "r4MQf3ygEK4T"
      }
    },
    {
      "cell_type": "code",
      "source": [
        "def pagerank(matrix, eps=1.0e-8, d=0.85):\n",
        "    N = matrix.shape[1]\n",
        "    v = np.random.rand(N, 1)\n",
        "    v = v / np.linalg.norm(v, 1)\n",
        "    last_v = np.ones((N, 1), dtype=np.float32) * np.inf\n",
        "    M_hat = (d * matrix) + (((1 - d) / N) * np.ones((N, N), dtype=np.float32))\n",
        "    \n",
        "    while np.linalg.norm(v - last_v, 2) > eps:\n",
        "        last_v = v\n",
        "        v = np.matmul(M_hat, v)\n",
        "    return v"
      ],
      "metadata": {
        "id": "5u2JNGa4EPaS"
      },
      "execution_count": 32,
      "outputs": []
    },
    {
      "cell_type": "code",
      "source": [
        "ranks = pagerank(SimilarityMatrix)"
      ],
      "metadata": {
        "id": "jz0Gr4rGEVfa"
      },
      "execution_count": 33,
      "outputs": []
    },
    {
      "cell_type": "code",
      "source": [
        "ranks"
      ],
      "metadata": {
        "colab": {
          "base_uri": "https://localhost:8080/"
        },
        "id": "0Zihp_AuEZXE",
        "outputId": "411aeb3c-13ba-4d44-d336-2b96f2cdff57"
      },
      "execution_count": 34,
      "outputs": [
        {
          "output_type": "execute_result",
          "data": {
            "text/plain": [
              "array([[0.00388809],\n",
              "       [0.00537445],\n",
              "       [0.00368312],\n",
              "       [0.00220138],\n",
              "       [0.00160533],\n",
              "       [0.0116334 ],\n",
              "       [0.01353148],\n",
              "       [0.00466342],\n",
              "       [0.00745492],\n",
              "       [0.02006356],\n",
              "       [0.02205361],\n",
              "       [0.0030325 ],\n",
              "       [0.0111093 ],\n",
              "       [0.00806791],\n",
              "       [0.00502207],\n",
              "       [0.0149853 ],\n",
              "       [0.01631649],\n",
              "       [0.00886955],\n",
              "       [0.02362489],\n",
              "       [0.00125545],\n",
              "       [0.0033375 ],\n",
              "       [0.00161526],\n",
              "       [0.00982682],\n",
              "       [0.02179603],\n",
              "       [0.00953158],\n",
              "       [0.01985539],\n",
              "       [0.01907658],\n",
              "       [0.00737893],\n",
              "       [0.01823641],\n",
              "       [0.00244146],\n",
              "       [0.0080199 ],\n",
              "       [0.0039383 ],\n",
              "       [0.01742187],\n",
              "       [0.00165717],\n",
              "       [0.00566927],\n",
              "       [0.01358015],\n",
              "       [0.0114422 ],\n",
              "       [0.0234917 ],\n",
              "       [0.00436433],\n",
              "       [0.0171251 ],\n",
              "       [0.00529819],\n",
              "       [0.0164968 ],\n",
              "       [0.01936035],\n",
              "       [0.0173704 ],\n",
              "       [0.01846608],\n",
              "       [0.01756296],\n",
              "       [0.00232095],\n",
              "       [0.00198508],\n",
              "       [0.0130434 ],\n",
              "       [0.0073251 ],\n",
              "       [0.01916157],\n",
              "       [0.01251265],\n",
              "       [0.01160315],\n",
              "       [0.00283179],\n",
              "       [0.01504574],\n",
              "       [0.0075607 ],\n",
              "       [0.00261448],\n",
              "       [0.00445463],\n",
              "       [0.02315025],\n",
              "       [0.00584016],\n",
              "       [0.00558653],\n",
              "       [0.00851617],\n",
              "       [0.0056556 ],\n",
              "       [0.01940501],\n",
              "       [0.01087551],\n",
              "       [0.01490752],\n",
              "       [0.007965  ],\n",
              "       [0.0035219 ],\n",
              "       [0.02027619],\n",
              "       [0.00284788],\n",
              "       [0.02162632],\n",
              "       [0.01934859],\n",
              "       [0.01852808],\n",
              "       [0.02058965],\n",
              "       [0.01658398],\n",
              "       [0.00545007],\n",
              "       [0.00299514],\n",
              "       [0.00757033],\n",
              "       [0.00677696],\n",
              "       [0.02053867],\n",
              "       [0.0131986 ],\n",
              "       [0.02032545],\n",
              "       [0.00416889],\n",
              "       [0.01783941],\n",
              "       [0.02014453],\n",
              "       [0.01562236],\n",
              "       [0.01817286],\n",
              "       [0.01871622]])"
            ]
          },
          "metadata": {},
          "execution_count": 34
        }
      ]
    },
    {
      "cell_type": "code",
      "source": [
        "sortRankWithindexes = [item[0] for item in sorted(enumerate(ranks), key=lambda item: -item[1])]"
      ],
      "metadata": {
        "id": "YgbquGtlEeoE"
      },
      "execution_count": 35,
      "outputs": []
    },
    {
      "cell_type": "code",
      "source": [
        "sortRankWithindexes"
      ],
      "metadata": {
        "colab": {
          "base_uri": "https://localhost:8080/"
        },
        "id": "UuudH3pGEj2v",
        "outputId": "34121602-cd6d-4fa0-fed4-bddbec9e4e3d"
      },
      "execution_count": 36,
      "outputs": [
        {
          "output_type": "execute_result",
          "data": {
            "text/plain": [
              "[18,\n",
              " 37,\n",
              " 58,\n",
              " 10,\n",
              " 23,\n",
              " 70,\n",
              " 73,\n",
              " 79,\n",
              " 81,\n",
              " 68,\n",
              " 84,\n",
              " 9,\n",
              " 25,\n",
              " 63,\n",
              " 42,\n",
              " 71,\n",
              " 50,\n",
              " 26,\n",
              " 87,\n",
              " 72,\n",
              " 44,\n",
              " 28,\n",
              " 86,\n",
              " 83,\n",
              " 45,\n",
              " 32,\n",
              " 43,\n",
              " 39,\n",
              " 74,\n",
              " 41,\n",
              " 16,\n",
              " 85,\n",
              " 54,\n",
              " 15,\n",
              " 65,\n",
              " 35,\n",
              " 6,\n",
              " 80,\n",
              " 48,\n",
              " 51,\n",
              " 5,\n",
              " 52,\n",
              " 36,\n",
              " 12,\n",
              " 64,\n",
              " 22,\n",
              " 24,\n",
              " 17,\n",
              " 61,\n",
              " 13,\n",
              " 30,\n",
              " 66,\n",
              " 77,\n",
              " 55,\n",
              " 8,\n",
              " 27,\n",
              " 49,\n",
              " 78,\n",
              " 59,\n",
              " 34,\n",
              " 62,\n",
              " 60,\n",
              " 75,\n",
              " 1,\n",
              " 40,\n",
              " 14,\n",
              " 7,\n",
              " 57,\n",
              " 38,\n",
              " 82,\n",
              " 31,\n",
              " 0,\n",
              " 2,\n",
              " 67,\n",
              " 20,\n",
              " 11,\n",
              " 76,\n",
              " 69,\n",
              " 53,\n",
              " 56,\n",
              " 29,\n",
              " 46,\n",
              " 3,\n",
              " 47,\n",
              " 33,\n",
              " 21,\n",
              " 4,\n",
              " 19]"
            ]
          },
          "metadata": {},
          "execution_count": 36
        }
      ]
    },
    {
      "cell_type": "code",
      "source": [
        "SummaryLines = 5"
      ],
      "metadata": {
        "id": "p_HY_sK6En75"
      },
      "execution_count": 37,
      "outputs": []
    },
    {
      "cell_type": "markdown",
      "source": [
        "Selecting top sentences for summary"
      ],
      "metadata": {
        "id": "m5N5QHe5E00A"
      }
    },
    {
      "cell_type": "code",
      "source": [
        "selectedSentences = sorted(sortRankWithindexes[:SummaryLines])"
      ],
      "metadata": {
        "id": "7FzeU5YhE2-9"
      },
      "execution_count": 38,
      "outputs": []
    },
    {
      "cell_type": "code",
      "source": [
        "summary = itemgetter(*selectedSentences)(sentences)"
      ],
      "metadata": {
        "id": "8NEnpX_gE9cs"
      },
      "execution_count": 39,
      "outputs": []
    },
    {
      "cell_type": "code",
      "source": [
        "finalSummary=\"\"\n",
        "for sentence in summary:\n",
        "    finalSummary+=' '.join(sentence)"
      ],
      "metadata": {
        "id": "GvaoDtlWFArw"
      },
      "execution_count": 40,
      "outputs": []
    },
    {
      "cell_type": "markdown",
      "source": [
        "Final Summary"
      ],
      "metadata": {
        "id": "FIyinSdYFIQ9"
      }
    },
    {
      "cell_type": "code",
      "source": [
        "finalSummary"
      ],
      "metadata": {
        "colab": {
          "base_uri": "https://localhost:8080/",
          "height": 108
        },
        "id": "S-mhY0hXFJiB",
        "outputId": "84d381e1-e4dd-462f-d02b-4ce473c9da9b"
      },
      "execution_count": 41,
      "outputs": [
        {
          "output_type": "execute_result",
          "data": {
            "application/vnd.google.colaboratory.intrinsic+json": {
              "type": "string"
            },
            "text/plain": [
              "'Canada alone has been somewhat out of step with the Oslo attempt to get all the allied cars back on the track behind the NATO locomotive .The Secretary of State himself , in his first speech , gave some idea of the tremendous march of events inside and outside the United States that has preoccupied the new administration in the past four months .The annual spring meeting has given an impetus in three main directions : more , deeper , and more timely political consultation within the alliance , the use of the Organization for Economic Cooperation and Development ( when ratified ) as a method of coordinating aid to the underdeveloped countries , and the need for strengthening conventional forces as well as the maintenance of the nuclear deterrent .Its spokesmen insist that there has not been time enough to institute reforms in military and economic aid policies in the critical areas .Very early in his administration he informed the Kremlin through diplomatic channels , a high official source disclosed , that the new administration would react even tougher than the Eisenhower administration would during the formative period of the administration .'"
            ]
          },
          "metadata": {},
          "execution_count": 41
        }
      ]
    },
    {
      "cell_type": "markdown",
      "source": [
        "BLEU"
      ],
      "metadata": {
        "id": "M4y0ADRBFYr6"
      }
    },
    {
      "cell_type": "code",
      "source": [
        "#two references for one document\n",
        "from nltk.translate.bleu_score import corpus_bleu\n",
        "sentences = [[\"OsloThe most positive element to emerge from the Oslo meeting of North Atlantic Treaty Organization Foreign Ministers has been the freer , franker , and wider discussions , animated by much better mutual understanding than in past meetings .This has been a working session of an organization that , by its very nature , can only proceed along its route step by step and without dramatic changes .In Oslo , the ministers have met in a climate of candor , and made a genuine attempt to get information and understanding one another's problems .This atmosphere of understanding has been particularly noticeable where relations are concerned between the `` colonialist '' powers and those who have never , or not for a long time , had such problems .The nightmare of a clash between those in trouble in Africa , exacerbated by the difficulties , changes , and tragedies facing them , and other allies who intellectually and emotionally disapprove of the circumstances that have brought these troubles about , has been conspicuous by its absence .Explosion avoidedIn the case of Portugal , which a few weeks ago was rumored ready to walk out of the NATO Council should critics of its Angola policy prove harsh , there has been a noticeable relaxation of tension .The general , remarkably courteous , explanation has left basic positions unchanged , but there has been no explosion in the council .There should even be no more bitter surprises in the UN General Assembly as to NATO members' votes , since a new ad hoc NATO committee has been set up so that in the future such topics as Angola will be discussed in advance .Canada alone has been somewhat out of step with the Oslo attempt to get all the allied cars back on the track behind the NATO locomotive .Even Norway , despite daily but limited manifestations against atomic arms in the heart of this northernmost capital of the alliance , is today closer to the NATO line .On the negative side of the balance sheet must be set some disappointment that the United States leadership has not been as much in evidence as hoped for .One diplomat described the tenor of Secretary of State Dean Rusk's speeches as `` inconclusive '' .But he hastened to add that , if United States policies were not always clear , despite Mr. Rusk's analysis of the various global danger points and setbacks for the West , this may merely mean the new administration has not yet firmly fixed its policy .Exploratory moodA certain vagueness may also be caused by tactical appreciation of the fact that the present council meeting is a semipublic affair , with no fewer than six Soviet correspondents accredited .The impression has nevertheless been given during these three days , despite Mr. Rusk's personal popularity , that the United States delegation came to Oslo in a somewhat tentative and exploratory frame of mind , more ready to listen and learn than to enunciate firm policy on a global scale with detailed application to individual danger spots .The Secretary of State himself , in his first speech , gave some idea of the tremendous march of events inside and outside the United States that has preoccupied the new administration in the past four months .But where the core of NATO is concerned , the Secretary of State has not only reiterated the United States' profound attachment to the alliance , `` cornerstone '' of its foreign policy , but has announced that five nuclear submarines will eventually be at NATO's disposal in European waters .The Secretary of State has also solemnly repeated a warning to the Soviet Union that the United States will not stand for another setback in Berlin , an affirmation once again taken up by the council as a whole .Conflict surveyedThe secretary's greatest achievement is perhaps the rekindling of NATO realization that East-West friction , wherever it take place around the globe , is in essence the general conflict between two entirely different societies , and must be treated as such without regard to geographical distance or lack of apparent connection .The annual spring meeting has given an impetus in three main directions : more , deeper , and more timely political consultation within the alliance , the use of the Organization for Economic Cooperation and Development ( when ratified ) as a method of coordinating aid to the underdeveloped countries , and the need for strengthening conventional forces as well as the maintenance of the nuclear deterrent .This increase in the `` threshold '' , as the conventional forces strengthening is called , will prove one of the alliance's most difficult problems in the months to come .Each ally will have to carry out obligations long since laid down , but never completely fulfilled .WashingtonThe Kennedy administration moves haltingly toward a Geneva conference on Laos just as serious debate over its foreign policy erupts for the first time .There is little optimism here that the Communists will be any more docile at the conference table than they were in military actions on the ground in Laos .The United States , State Department officials explain , now is mainly interested in setting up an international inspection system which will prevent Laos from being used as a base for Communist attacks on neighboring Thailand and South Viet Nam .They count on the aid of the neutral countries attending the Geneva conference to achieve this .The United States hopes that any future Lao Cabinet would not become Communist dominated .But it is apparent that no acceptable formula has been found to prevent such a possibility .Policies modifiedThe inclination here is to accept a de facto cease-fire in Laos , rather than continue to insist on a verification of the cease-fire by the international control commission before participating in the Geneva conference .This is another of the modifications of policy on Laos that the Kennedy administration has felt compelled to make .It excuses these actions as being the chain reaction to basic errors made in the previous administration .Its spokesmen insist that there has not been time enough to institute reforms in military and economic aid policies in the critical areas .But with the months moving on -- and the immediate confrontations with the Communists showing no gain for the free world -- the question arises :How effective have Kennedy administration first foreign policy decisions been in dealing with Communist aggression ? ?Former Vice-President Richard M. Nixon in Detroit called for a firmer and tougher policy toward the Soviet Union .He was critical of what he feels is President Kennedy's tendency to be too conciliatory .GOP restrainedIt does not take a Gallup poll to find out that most Republicans in Congress feel this understates the situation as Republicans see it .They can hardly restrain themselves from raising the question of whether Republicans , if they had been in power , would have made `` amateurish and monumental blunders '' in Cuba .One Republican senator told this correspondent that he was constantly being asked why he didn't attack the Kennedy administration on this score .His reply , he said , was that he agreed to the need for unity in the country now .But he further said that it was better politics to let others question the wisdom of administration policies first .The Republicans some weeks ago served notice through Senator Thruston B. Morton ( R ) of Kentucky , chairman of the Republican National Committee , that the Kennedy administration would be held responsible if the outcome in Laos was a coalition government susceptible of Communist domination .Kennedy administration policies also have been assailed now from another direction by 70 Harvard , Boston University , Brandeis , and Massachusetts Institute of Technology educators .Detente urgedThis group pleads with the administration to `` give no further support for the invasion of Cuba by exile groups '' .It recommends that the United States `` seek instead to detach the Castro regime from the Communist bloc by working for a diplomatic detente and a resumption of trade relations ; ;and concentrate its constructive efforts on eliminating in other parts of Latin America the social conditions on which totalitarian nationalism feeds '' .Mr. Nixon , for his part , would oppose intervention in Cuba without specific provocation .But he did recommend that President Kennedy state clearly that if Communist countries shipped any further arms to Cuba that it would not be tolerated .Until the Cuban fiasco and the Communist military victories in Laos , almost any observer would have said that President Kennedy had blended a program that respected , generally , the opinions voiced both by Mr. Nixon and the professors .Aid plans revampedVery early in his administration he informed the Kremlin through diplomatic channels , a high official source disclosed , that the new administration would react even tougher than the Eisenhower administration would during the formative period of the administration .Strenuous efforts were made to remove pin pricking from administration statements .Policies on nuclear test ban negotiations were reviewed and changed .But thus far there has been no response in kind .Foreign aid programs were revamped to give greater emphasis to economic aid and to encourage political reform in recipient nations .In Laos , the administration looked at the Eisenhower administration efforts to show determination by sailing a naval fleet into Southeast Asian waters as a useless gesture .Again and again it asked the Communists to `` freeze '' the military situation in Laos .But the Communists aided the Pathet Lao at an even faster rate .And after several correspondents went into Pathet Lao territory and exposed the huge build-up , administration spokesmen acclaimed them for performing a `` great service '' and laid the matter before the Southeast Asia Treaty Organization .SEATO was steamed up and prepared contingency plans for coping with the military losses in Laos .But the Communists never gave sufficient provocation at any one time for the United States to want to risk a limited or an all-out war over Laos .( Some SEATO nations disagreed , however .)There was the further complication that the administration had very early concluded that Laos was ill suited to be an ally , unlike its more determined neighbors , Thailand and South Viet Nam .The administration declared itself in favor of a neutralized Laos .The pro-Western government , which the United States had helped in a revolt against the Souvanna Phouma `` neutralist '' government , never did appear to spark much fighting spirit in the Royal Lao Army .There certainly was not any more energy displayed after it was clear the United States would not back the pro-Western government to the hilt .If the administration ever had any ideas that it could find an acceptable alternative to Prince Souvanna Phouma , whom it felt was too trusting of Communists , it gradually had to relinquish them .One factor was the statement of Senator J. W. Fulbright ( D ) of Arkansas , chairman of the Senate Foreign Relations Committee .He declared on March 25 that the United States had erred a year and a half ago by `` encouraging the removal '' of Prince Souvanna .WashingtonThe White House is taking extraordinary steps to check the rapid growth of juvenile delinquency in the United States .The President is deeply concerned over this problem and its effect upon the `` vitality of the nation '' .In an important assertion of national leadership in this field , he has issued an executive order establishing the President's committee on Juvenile Delinquency and Crime , to be supported and assisted by a Citizens Advisory Council of recognized authorities on juvenile problems .The President asks the support and cooperation of Congress in his efforts through the enactment of legislation to provide federal grants to states for specified efforts in combating this disturbing crime trend .Offenses multiplyThe President has also called upon the Attorney General , the Secretary of Health , Education and Welfare , and the Secretary of Labor to coordinate their efforts `` in the development of a program of federal leadership to assist states and local communities in their efforts to cope with the problem .Simultaneously the President announced Thursday the appointment of David L. Hackett , a special assistant to the Attorney General , as executive director of the new Committee on Juvenile Delinquency and Youth Crime .His sense of urgency in this matter stems from the fact that court cases and juvenile arrests have more than doubled since 1948 , each year showing an increase in offenders .Among arrests reported by the Federal Bureau of Investigation in 1959 , about half for burglary and larceny involved persons under 18 years of age.\"]]\n",
        "\n",
        "finalSummary = [[\"Canada alone has been somewhat out of step with the Oslo attempt to get all the allied cars back on the track behind the NATO locomotive .The Secretary of State himself , in his first speech , gave some idea of the tremendous march of events inside and outside the United States that has preoccupied the new administration in the past four months .The annual spring meeting has given an impetus in three main directions : more , deeper , and more timely political consultation within the alliance , the use of the Organization for Economic Cooperation and Development ( when ratified ) as a method of coordinating aid to the underdeveloped countries , and the need for strengthening conventional forces as well as the maintenance of the nuclear deterrent .Its spokesmen insist that there has not been time enough to institute reforms in military and economic aid policies in the critical areas .Very early in his administration he informed the Kremlin through diplomatic channels , a high official source disclosed , that the new administration would react even tougher than the Eisenhower administration would during the formative period of the administration .\"]]\n",
        "score = corpus_bleu(sentences, finalSummary)\n",
        "print(score)"
      ],
      "metadata": {
        "colab": {
          "base_uri": "https://localhost:8080/"
        },
        "id": "LCUw4SShFbXR",
        "outputId": "569fa326-dc7a-4d21-a1b8-cdb517703598"
      },
      "execution_count": 53,
      "outputs": [
        {
          "output_type": "stream",
          "name": "stdout",
          "text": [
            "0\n"
          ]
        }
      ]
    }
  ]
}